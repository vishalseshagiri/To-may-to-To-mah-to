{
 "cells": [
  {
   "cell_type": "code",
   "execution_count": null,
   "metadata": {},
   "outputs": [],
   "source": [
    "import os\n",
    "import scipy\n",
    "os.environ[\"GOOGLE_APPLICATION_CREDENTIALS\"] = \"exalted-gamma-237507-cecf0237b380.json\"\n",
    "from extract_audio import *\n",
    "from moviepy.editor import VideoFileClip, AudioFileClip\n",
    "import moviepy.editor as mpe\n",
    "import io\n",
    "import subprocess"
   ]
  },
  {
   "cell_type": "code",
   "execution_count": null,
   "metadata": {},
   "outputs": [],
   "source": [
    "def extractAudio(videofile,audiofile):\n",
    "    command = \"ffmpeg -i \"+videofile+\" -ab 160k -ac 1 -ar 16000 -vn \"+audiofile\n",
    "    subprocess.call(command, shell=True)"
   ]
  },
  {
   "cell_type": "code",
   "execution_count": null,
   "metadata": {},
   "outputs": [],
   "source": [
    "def transcribe_file2(speech_file,language):\n",
    "    \"\"\"Transcribe the given audio file.\"\"\"\n",
    "    from google.cloud import speech\n",
    "    from google.cloud.speech import enums\n",
    "    from google.cloud.speech import types\n",
    "    client = speech.SpeechClient()\n",
    "\n",
    "    with io.open(speech_file, 'rb') as audio_file:\n",
    "        content = audio_file.read()\n",
    "\n",
    "    audio = types.RecognitionAudio(content=content)\n",
    "    config = types.RecognitionConfig(\n",
    "        encoding=enums.RecognitionConfig.AudioEncoding.LINEAR16,\n",
    "        language_code=language,\n",
    "    enable_word_time_offsets=True)\n",
    "\n",
    "#    response = client.recognize(config, audio)\n",
    "    # Each result is for a consecutive portion of the audio. Iterate through\n",
    "    # them to get the transcripts for the entire audio file.\n",
    "    string=\"\"\n",
    "    operation = client.long_running_recognize(config, audio)\n",
    "\n",
    "    ret=list()\n",
    "    print('Waiting for operation to complete...')\n",
    "    result = operation.result(timeout=90)\n",
    "    \n",
    "    for result in result.results:\n",
    "        alternative = result.alternatives[0]\n",
    "        string=string+alternative.transcript\n",
    "        \n",
    "        \n",
    "        for word_info in alternative.words:\n",
    "            word = word_info.word\n",
    "            start_time = word_info.start_time\n",
    "            end_time = word_info.end_time\n",
    "            ret.append((\n",
    "                word,\n",
    "                start_time.seconds + start_time.nanos * 1e-9,\n",
    "                end_time.seconds + end_time.nanos * 1e-9))\n",
    "    return string,ret"
   ]
  },
  {
   "cell_type": "code",
   "execution_count": 4,
   "metadata": {},
   "outputs": [],
   "source": [
    "from google.cloud import texttospeech\n",
    "\n",
    "def textToSpeech(text2,language):\n",
    "# Instantiates a client\n",
    "    client = texttospeech.TextToSpeechClient()\n",
    "\n",
    "# Set the text input to be synthesized\n",
    "    synthesis_input = texttospeech.types.SynthesisInput(text=text2)\n",
    "\n",
    "# Build the voice request, select the language code (\"en-US\") and the ssml\n",
    "# voice gender (\"neutral\")\n",
    "    voice = texttospeech.types.VoiceSelectionParams(\n",
    "        language_code=language,\n",
    "        ssml_gender=texttospeech.enums.SsmlVoiceGender.FEMALE)\n",
    "\n",
    "# Select the type of audio file you want returned\n",
    "    audio_config = texttospeech.types.AudioConfig(\n",
    "        audio_encoding=texttospeech.enums.AudioEncoding.MP3)\n",
    "\n",
    "    # Perform the text-to-speech request on the text input with the selected\n",
    "    # voice parameters and audio file type\n",
    "    response = client.synthesize_speech(synthesis_input, voice, audio_config)\n",
    "\n",
    "    # The response's audio_content is binary.\n",
    "    with open('target_audio.mp3', 'wb') as out:\n",
    "        # Write the response to the output file.\n",
    "        out.write(response.audio_content)\n",
    "        print('Audio content written to file \"output.mp3\"')"
   ]
  },
  {
   "cell_type": "code",
   "execution_count": 5,
   "metadata": {},
   "outputs": [],
   "source": [
    "def synthesize_ssml(ssml,target):\n",
    "    \"\"\"Synthesizes speech from the input string of ssml.\n",
    "\n",
    "    Note: ssml must be well-formed according to:\n",
    "        https://www.w3.org/TR/speech-synthesis/\n",
    "\n",
    "    Example: <speak>Hello there.</speak>\n",
    "    \"\"\"\n",
    "    from google.cloud import texttospeech\n",
    "    client = texttospeech.TextToSpeechClient()\n",
    "\n",
    "    input_text = texttospeech.types.SynthesisInput(ssml=ssml)\n",
    "\n",
    "    # Note: the voice can also be specified by name.\n",
    "    # Names of voices can be retrieved with client.list_voices().\n",
    "    voice = texttospeech.types.VoiceSelectionParams(\n",
    "        language_code=target,\n",
    "        ssml_gender=texttospeech.enums.SsmlVoiceGender.FEMALE)\n",
    "\n",
    "    audio_config = texttospeech.types.AudioConfig(\n",
    "        audio_encoding=texttospeech.enums.AudioEncoding.MP3)\n",
    "\n",
    "    response = client.synthesize_speech(input_text, voice, audio_config)\n",
    "\n",
    "    # The response's audio_content is binary.\n",
    "    with open('target_audio.mp3', 'wb') as out:\n",
    "        out.write(response.audio_content)\n"
   ]
  },
  {
   "cell_type": "code",
   "execution_count": 6,
   "metadata": {},
   "outputs": [],
   "source": [
    "def generateSsml(tuples):\n",
    "    speakOpenTag=\"<speak>\"\n",
    "    speakCloseTag=\"</speak>\"\n",
    "    breakOpenTag='<break time=\\\"'\n",
    "    breakCloseTag=\"s\\\"/>\"\n",
    "    ssml=speakOpenTag\n",
    "    for idx,t in enumerate(tuples):\n",
    "        try:\n",
    "            ssml = ssml + t[0] + breakOpenTag+ str(tuples[idx+1][1]-t[2]) +breakCloseTag\n",
    "        except IndexError:\n",
    "            pass\n",
    "    \n",
    "    ssml = ssml+speakCloseTag\n",
    "    return ssml\n",
    "    "
   ]
  },
  {
   "cell_type": "code",
   "execution_count": 7,
   "metadata": {},
   "outputs": [],
   "source": [
    "def accent_translation(file,current,target):\n",
    "    extractAudio(file,\"source_audio.wav\")\n",
    "    source_audio_text,tuples=transcribe_file2(\"source_audio.wav\",current)\n",
    "    print(\"source audio text\",source_audio_text)\n",
    "    ssml=generateSsml(tuples)\n",
    "    synthesize_ssml(ssml,target)\n",
    "    \n",
    "    target_audio = mpe.AudioFileClip(\"target_audio.mp3\")\n",
    "    videoclip = VideoFileClip(file)\n",
    "    new_clip = videoclip.set_audio(target_audio)\n",
    "    new_clip.write_videofile(\"final_cut.mp4\")"
   ]
  },
  {
   "cell_type": "code",
   "execution_count": 8,
   "metadata": {},
   "outputs": [
    {
     "name": "stdout",
     "output_type": "stream",
     "text": [
      "Waiting for operation to complete...\n",
      "source audio text faces in a question send me the third best way of starting a speech the second best way of starting a speech that shocks does more people alive today than have ever died more people alive today than have ever died does a lot of speeches that can follow on from there but every two minutes the energy reaching the Earth from the Sun is equivalent to the whole annual usage of humanity\n"
     ]
    },
    {
     "name": "stderr",
     "output_type": "stream",
     "text": [
      "chunk:   3%|▎         | 33/996 [00:00<00:02, 329.51it/s, now=None]"
     ]
    },
    {
     "name": "stdout",
     "output_type": "stream",
     "text": [
      "Moviepy - Building video final_cut.mp4.\n",
      "MoviePy - Writing audio in %s\n"
     ]
    },
    {
     "name": "stderr",
     "output_type": "stream",
     "text": [
      "t:   1%|          | 10/1233 [00:00<00:12, 94.50it/s, now=None]     "
     ]
    },
    {
     "name": "stdout",
     "output_type": "stream",
     "text": [
      "MoviePy - Done.\n",
      "Moviepy - Writing video final_cut.mp4\n",
      "\n"
     ]
    },
    {
     "name": "stderr",
     "output_type": "stream",
     "text": [
      "                                                                \r"
     ]
    },
    {
     "name": "stdout",
     "output_type": "stream",
     "text": [
      "Moviepy - Done !\n",
      "Moviepy - video ready final_cut.mp4\n"
     ]
    }
   ],
   "source": [
    "accent_translation(\"video_file.mp4\",'en-US','en-IN')"
   ]
  }
 ],
 "metadata": {
  "kernelspec": {
   "display_name": "Python 3",
   "language": "python",
   "name": "python3"
  },
  "language_info": {
   "codemirror_mode": {
    "name": "ipython",
    "version": 3
   },
   "file_extension": ".py",
   "mimetype": "text/x-python",
   "name": "python",
   "nbconvert_exporter": "python",
   "pygments_lexer": "ipython3",
   "version": "3.6.5"
  }
 },
 "nbformat": 4,
 "nbformat_minor": 2
}
