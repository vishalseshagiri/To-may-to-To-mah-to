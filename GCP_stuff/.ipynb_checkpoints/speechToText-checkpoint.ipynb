{
 "cells": [
  {
   "cell_type": "code",
   "execution_count": null,
   "metadata": {},
   "outputs": [],
   "source": [
    "import os\n",
    "import scipy\n",
    "from moviepy.editor import VideoFileClip, AudioFileClip\n",
    "import moviepy.editor as mpe\n",
    "import io\n",
    "import subprocess\n",
    "os.environ[\"GOOGLE_APPLICATION_CREDENTIALS\"] = \"exalted-gamma-237507-cecf0237b380.json\""
   ]
  },
  {
   "cell_type": "code",
   "execution_count": 2,
   "metadata": {},
   "outputs": [],
   "source": [
    "def extractAudio(videofile,audiofile):\n",
    "    command = \"ffmpeg -i \"+videofile+\" -ab 160k -ac 1 -ar 16000 -vn \"+audiofile\n",
    "    subprocess.call(command, shell=True)"
   ]
  },
  {
   "cell_type": "code",
   "execution_count": 3,
   "metadata": {},
   "outputs": [],
   "source": [
    "def transcribe_file(speech_file,language):\n",
    "    \"\"\"Transcribe the given audio file.\"\"\"\n",
    "    from google.cloud import speech\n",
    "    from google.cloud.speech import enums\n",
    "    from google.cloud.speech import types\n",
    "    client = speech.SpeechClient()\n",
    "\n",
    "    with io.open(speech_file, 'rb') as audio_file:\n",
    "        content = audio_file.read()\n",
    "\n",
    "    audio = types.RecognitionAudio(content=content)\n",
    "    config = types.RecognitionConfig(\n",
    "        encoding=enums.RecognitionConfig.AudioEncoding.LINEAR16,\n",
    "        language_code=language)\n",
    "\n",
    "    response = client.recognize(config, audio)\n",
    "    string=\"\"\n",
    "    for result in response.results:\n",
    "        string=string+result.alternatives[0].transcript\n",
    "    return string"
   ]
  },
  {
   "cell_type": "code",
   "execution_count": null,
   "metadata": {},
   "outputs": [],
   "source": [
    "#result=transcribe_file(\"audioFile.wav\")"
   ]
  },
  {
   "cell_type": "code",
   "execution_count": null,
   "metadata": {},
   "outputs": [],
   "source": [
    "#us=transcribe_file(\"us.wav\",'en-US')"
   ]
  },
  {
   "cell_type": "code",
   "execution_count": null,
   "metadata": {},
   "outputs": [],
   "source": [
    "#indian = transcribe_file(\"indian.wav\",'en-IN')\n"
   ]
  },
  {
   "cell_type": "code",
   "execution_count": null,
   "metadata": {},
   "outputs": [],
   "source": [
    "#aa=transcribe_file(\"audioFile2.wav\",'en-IN')"
   ]
  },
  {
   "cell_type": "code",
   "execution_count": 10,
   "metadata": {},
   "outputs": [],
   "source": [
    "\n",
    "from google.cloud import texttospeech\n",
    "def textToSpeech(text2,language):\n",
    "# Instantiates a client\n",
    "    client = texttospeech.TextToSpeechClient()\n",
    "\n",
    "# Set the text input to be synthesized\n",
    "    synthesis_input = texttospeech.types.SynthesisInput(text=text2)\n",
    "\n",
    "# Build the voice request, select the language code (\"en-US\") and the ssml\n",
    "# voice gender (\"neutral\")\n",
    "    voice = texttospeech.types.VoiceSelectionParams(\n",
    "        language_code=language,\n",
    "        ssml_gender=texttospeech.enums.SsmlVoiceGender.FEMALE)\n",
    "\n",
    "# Select the type of audio file you want returned\n",
    "    audio_config = texttospeech.types.AudioConfig(\n",
    "        audio_encoding=texttospeech.enums.AudioEncoding.MP3)\n",
    "\n",
    "    # Perform the text-to-speech request on the text input with the selected\n",
    "    # voice parameters and audio file type\n",
    "    response = client.synthesize_speech(synthesis_input, voice, audio_config)\n",
    "\n",
    "    # The response's audio_content is binary.\n",
    "    with open('target_audio.mp3', 'wb') as out:\n",
    "        # Write the response to the output file.\n",
    "        out.write(response.audio_content)\n",
    "        print('Audio content written to file \"output.mp3\"')"
   ]
  },
  {
   "cell_type": "code",
   "execution_count": null,
   "metadata": {},
   "outputs": [],
   "source": [
    "#textToSpeech(aa,'en-US')"
   ]
  },
  {
   "cell_type": "code",
   "execution_count": null,
   "metadata": {},
   "outputs": [],
   "source": []
  },
  {
   "cell_type": "code",
   "execution_count": 4,
   "metadata": {},
   "outputs": [],
   "source": []
  },
  {
   "cell_type": "code",
   "execution_count": 13,
   "metadata": {},
   "outputs": [
    {
     "name": "stdout",
     "output_type": "stream",
     "text": [
      "Audio content written to file \"output.mp3\"\n"
     ]
    },
    {
     "name": "stderr",
     "output_type": "stream",
     "text": [
      "chunk:  11%|█         | 49/436 [00:00<00:00, 482.40it/s, now=None]"
     ]
    },
    {
     "name": "stdout",
     "output_type": "stream",
     "text": [
      "Moviepy - Building video final_cut.mp4.\n",
      "MoviePy - Writing audio in %s\n"
     ]
    },
    {
     "name": "stderr",
     "output_type": "stream",
     "text": [
      "t:   1%|          | 10/1233 [00:00<00:12, 97.46it/s, now=None]     "
     ]
    },
    {
     "name": "stdout",
     "output_type": "stream",
     "text": [
      "MoviePy - Done.\n",
      "Moviepy - Writing video final_cut.mp4\n",
      "\n"
     ]
    },
    {
     "name": "stderr",
     "output_type": "stream",
     "text": [
      "                                                                \r"
     ]
    },
    {
     "name": "stdout",
     "output_type": "stream",
     "text": [
      "Moviepy - Done !\n",
      "Moviepy - video ready final_cut.mp4\n"
     ]
    }
   ],
   "source": [
    "source_file=\"video_file.mp4\"\n",
    "source_audio_file=\"source_audio.wav\"\n",
    "\n",
    "\n",
    "extractAudio(source_file,source_audio_file)\n",
    "text_from_audio=transcribe_file(source_audio_file,'en-US')\n",
    "textToSpeech(text_from_audio,'en-IN')\n",
    "\n",
    "videoclip = VideoFileClip(source_file)\n",
    "background_music = mpe.AudioFileClip(\"target_audio.mp3\")\n",
    "new_clip = videoclip.set_audio(background_music)\n",
    "new_clip.write_videofile(\"final_cut.mp4\")"
   ]
  },
  {
   "cell_type": "code",
   "execution_count": 27,
   "metadata": {},
   "outputs": [
    {
     "name": "stdout",
     "output_type": "stream",
     "text": [
      "Audio content written to file \"output.mp3\"\n"
     ]
    },
    {
     "name": "stderr",
     "output_type": "stream",
     "text": [
      "t:   8%|▊         | 11/135 [00:00<00:01, 105.86it/s, now=None]"
     ]
    },
    {
     "name": "stdout",
     "output_type": "stream",
     "text": [
      "Moviepy - Building video final_cut.mp4.\n",
      "MoviePy - Writing audio in %s\n",
      "MoviePy - Done.\n",
      "Moviepy - Writing video final_cut.mp4\n",
      "\n"
     ]
    },
    {
     "name": "stderr",
     "output_type": "stream",
     "text": [
      "                                                              \r"
     ]
    },
    {
     "name": "stdout",
     "output_type": "stream",
     "text": [
      "Moviepy - Done !\n",
      "Moviepy - video ready final_cut.mp4\n"
     ]
    }
   ],
   "source": [
    "source_file=\"video.mp4\"\n",
    "source_audio_file=\"source_audio.wav\"\n",
    "\n",
    "import subprocess\n",
    "\n",
    "#subprocess.call('ffmpeg -i sample_final.mov -vcodec copy -acodec copy video.mp4') \n",
    "def convert_video(video_input, video_output):\n",
    "    cmds = ['ffmpeg', '-i', video_input, video_output]\n",
    "    subprocess.Popen(cmds)\n",
    "\n",
    "convert_video('sample_final.mov',source_file)\n",
    "\n",
    "extractAudio(source_file,source_audio_file)\n",
    "\n",
    "text_from_audio=transcribe_file(source_audio_file,'en-US')\n",
    "print(\"PRINTING!!!\",text_from_audio)\n",
    "textToSpeech(text_from_audio,'en-US')\n",
    "\n",
    "videoclip = VideoFileClip(source_file)\n",
    "background_music = mpe.AudioFileClip(\"target_audio.mp3\")\n",
    "new_clip = videoclip.set_audio(background_music)\n",
    "new_clip.write_videofile(\"final_cut.mp4\")"
   ]
  },
  {
   "cell_type": "code",
   "execution_count": 21,
   "metadata": {},
   "outputs": [
    {
     "data": {
      "text/plain": [
       "'/Users/indumanimaran/Documents/Hackathon/HackSC/ExcuseMe-/GCP_stuff'"
      ]
     },
     "execution_count": 21,
     "metadata": {},
     "output_type": "execute_result"
    }
   ],
   "source": [
    "os.getcwd()"
   ]
  },
  {
   "cell_type": "code",
   "execution_count": null,
   "metadata": {},
   "outputs": [],
   "source": [
    "ffmpeg -i sample_final.mov -vcodec copy -acodec copy video.mp4\n",
    "\n"
   ]
  }
 ],
 "metadata": {
  "kernelspec": {
   "display_name": "Python 3",
   "language": "python",
   "name": "python3"
  },
  "language_info": {
   "codemirror_mode": {
    "name": "ipython",
    "version": 3
   },
   "file_extension": ".py",
   "mimetype": "text/x-python",
   "name": "python",
   "nbconvert_exporter": "python",
   "pygments_lexer": "ipython3",
   "version": "3.6.5"
  }
 },
 "nbformat": 4,
 "nbformat_minor": 2
}
